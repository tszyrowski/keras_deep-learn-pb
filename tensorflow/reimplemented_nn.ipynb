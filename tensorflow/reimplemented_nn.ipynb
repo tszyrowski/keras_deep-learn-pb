{
 "cells": [
  {
   "cell_type": "code",
   "id": "initial_id",
   "metadata": {
    "collapsed": true,
    "ExecuteTime": {
     "end_time": "2024-04-09T18:54:52.394183Z",
     "start_time": "2024-04-09T18:54:52.391630Z"
    }
   },
   "source": [
    "import tensorflow as tf\n",
    "import numpy as np"
   ],
   "outputs": [],
   "execution_count": 41
  },
  {
   "metadata": {
    "ExecuteTime": {
     "end_time": "2024-04-09T18:54:52.398575Z",
     "start_time": "2024-04-09T18:54:52.395136Z"
    }
   },
   "cell_type": "code",
   "source": [
    "class NaiveDense:\n",
    "    def __init__(self, input_size, output_size, activation):\n",
    "        self.activation = activation\n",
    "        \n",
    "        w_shape = (input_size, output_size)\n",
    "        w_initial_value = tf.random.uniform(w_shape, minval=0, maxval=1e-1)\n",
    "        self.W = tf.Variable(w_initial_value)\n",
    "        \n",
    "        b_shape = (output_size,)\n",
    "        b_initial_value = tf.zeros(b_shape)\n",
    "        self.b = tf.Variable(b_initial_value)\n",
    "        \n",
    "    def __call__(self, inputs):\n",
    "        return self.activation(tf.matmul(inputs, self.W) + self.b)\n",
    "    \n",
    "    @property\n",
    "    def weights(self):\n",
    "        return [self.W, self.b]"
   ],
   "id": "6c352d9cf726eb8f",
   "outputs": [],
   "execution_count": 42
  },
  {
   "metadata": {},
   "cell_type": "markdown",
   "source": "The same implementation with keras",
   "id": "1fc8451868089780"
  },
  {
   "metadata": {},
   "cell_type": "code",
   "outputs": [],
   "execution_count": null,
   "source": [
    "from tensorflow import keras\n",
    "\n",
    "class SimpleDense(keras.layers.Layer):\n",
    "    def __init__(self, units, activation=None):\n",
    "        super().__init__()\n",
    "        self.units = units\n",
    "        self.activation = activation\n",
    "        \n",
    "    def build(self, input_shape):\n",
    "        input_dim = input_shape[-1]\n",
    "        self.W = self.add_weight(\n",
    "            shape=(input_dim, self.units),\n",
    "            initializer='random_normal'\n",
    "        )\n",
    "        self.b = self.add_weight(\n",
    "            shape=(self.units,),\n",
    "            initializer='zeros'\n",
    "        )\n",
    "    \n",
    "    def call(self, inputs):\n",
    "        y = tf.matmul(inputs, self.W) + self.b\n",
    "        if self.activation is not None:\n",
    "            y = self.activation(y)\n",
    "        return y"
   ],
   "id": "543e256d448de27e"
  },
  {
   "metadata": {
    "ExecuteTime": {
     "end_time": "2024-04-09T18:54:52.403293Z",
     "start_time": "2024-04-09T18:54:52.400022Z"
    }
   },
   "cell_type": "code",
   "source": [
    "class NaiveSequential:\n",
    "    def __init__(self, layers):\n",
    "        self.layers = layers\n",
    "        \n",
    "    def __call__(self, inputs):\n",
    "        x = inputs\n",
    "        for layer in self.layers:\n",
    "            x = layer(x)\n",
    "        return x\n",
    "    \n",
    "    @property\n",
    "    def weights(self):\n",
    "        weights = []\n",
    "        for layer in self.layers:\n",
    "            weights += layer.weights\n",
    "        return weights\n",
    "    "
   ],
   "id": "c18989a5ce7a8e51",
   "outputs": [],
   "execution_count": 43
  },
  {
   "metadata": {
    "ExecuteTime": {
     "end_time": "2024-04-09T18:54:52.410927Z",
     "start_time": "2024-04-09T18:54:52.404386Z"
    }
   },
   "cell_type": "code",
   "source": [
    "model = NaiveSequential([\n",
    "    NaiveDense(input_size=28*28, output_size=512, activation=tf.nn.relu),\n",
    "    NaiveDense(input_size=512, output_size=10, activation=tf.nn.relu),\n",
    "])\n",
    "assert len(model.weights) == 4"
   ],
   "id": "df5d10c5c2808f0",
   "outputs": [],
   "execution_count": 44
  },
  {
   "metadata": {
    "ExecuteTime": {
     "end_time": "2024-04-09T18:54:52.417752Z",
     "start_time": "2024-04-09T18:54:52.413386Z"
    }
   },
   "cell_type": "code",
   "source": [
    "import math\n",
    "\n",
    "class BatchGenerator:\n",
    "    def __init__(self, images, labels, batch_size=128):\n",
    "        assert len(images) == len(labels)\n",
    "        self.index = 0\n",
    "        self.images = images\n",
    "        self.labels = labels\n",
    "        self.batch_size = batch_size\n",
    "        self.num_batches = int(math.ceil(len(self.images) / self.batch_size))\n",
    "    \n",
    "    def next(self):\n",
    "        images = self.images[self.index : self.index + self.batch_size]\n",
    "        labels = self.labels[self.index : self.index + self.batch_size]\n",
    "        self.index += self.batch_size\n",
    "        return images, labels"
   ],
   "id": "7f2d66e868a9fef5",
   "outputs": [],
   "execution_count": 45
  },
  {
   "metadata": {
    "ExecuteTime": {
     "end_time": "2024-04-09T18:54:52.423460Z",
     "start_time": "2024-04-09T18:54:52.418813Z"
    }
   },
   "cell_type": "code",
   "source": [
    "def update_weights_by_hand(gradients, weights, learning_rate=1e-3):\n",
    "    for g, w in zip(gradients,weights):\n",
    "        w.assign_sub(learning_rate * g)\n",
    "        \n",
    "# as tensor optimiser\n",
    "from tensorflow.keras import optimizers\n",
    "optimizer = optimizers.SGD(learning_rate=1e-3)\n",
    "def update_weights(gradients, weights):\n",
    "    optimizer.apply_gradients(zip(gradients, weights))"
   ],
   "id": "94e835ffb2b02dff",
   "outputs": [],
   "execution_count": 46
  },
  {
   "metadata": {
    "ExecuteTime": {
     "end_time": "2024-04-09T18:54:52.427950Z",
     "start_time": "2024-04-09T18:54:52.424444Z"
    }
   },
   "cell_type": "code",
   "source": [
    "def one_training_step(model, images_batch, labels_batch):\n",
    "    with tf.GradientTape() as tape:\n",
    "        predictions = model(images_batch)\n",
    "        per_sample_losses = tf.keras.losses.SparseCategoricalCrossentropy(from_logits=True)(labels_batch, predictions)\n",
    "        average_loss = tf.reduce_mean(per_sample_losses)\n",
    "    gradients = tape.gradient(average_loss, model.weights)\n",
    "    update_weights(gradients, model.weights)\n",
    "    return average_loss"
   ],
   "id": "5e908e5f4bfde294",
   "outputs": [],
   "execution_count": 47
  },
  {
   "metadata": {
    "ExecuteTime": {
     "end_time": "2024-04-09T18:54:52.432042Z",
     "start_time": "2024-04-09T18:54:52.428896Z"
    }
   },
   "cell_type": "code",
   "source": [
    "def fit(model, images, labels, epochs, batch_size=128):\n",
    "    for epoch_counter in range(epochs):\n",
    "        print(f\"Epoch {epoch_counter}\")\n",
    "        batch_generator = BatchGenerator(images, labels)\n",
    "        for batch_counter in range(batch_generator.num_batches):\n",
    "            images_batch, labels_batch = batch_generator.next()\n",
    "            loss = one_training_step(model, images_batch, labels_batch)\n",
    "            if batch_counter % 100 == 0:\n",
    "                print(f\"loss at {batch_counter}: {loss:.2f}\")"
   ],
   "id": "65ce035582a2e2b7",
   "outputs": [],
   "execution_count": 48
  },
  {
   "metadata": {
    "ExecuteTime": {
     "end_time": "2024-04-09T18:55:34.365969Z",
     "start_time": "2024-04-09T18:54:52.432815Z"
    }
   },
   "cell_type": "code",
   "source": [
    "from tensorflow.keras.datasets import mnist\n",
    "(train_images, train_labels), (test_images, test_labels) = mnist.load_data()\n",
    "\n",
    "train_images = train_images.reshape((60000, 28*28))\n",
    "train_images = train_images.astype(\"float32\") / 255\n",
    "test_images = test_images.reshape((10000, 28*28))\n",
    "test_images = test_images.astype(\"float32\") / 255\n",
    "\n",
    "fit(model, train_images, train_labels, epochs=10, batch_size=128)"
   ],
   "id": "3a7ce4bf4e043bfe",
   "outputs": [
    {
     "name": "stdout",
     "output_type": "stream",
     "text": [
      "Epoch 0\n",
      "loss at 0: 4.49\n",
      "loss at 100: 2.26\n",
      "loss at 200: 2.25\n",
      "loss at 300: 2.11\n",
      "loss at 400: 2.23\n",
      "Epoch 1\n",
      "loss at 0: 1.93\n",
      "loss at 100: 1.89\n",
      "loss at 200: 1.85\n",
      "loss at 300: 1.72\n",
      "loss at 400: 1.83\n",
      "Epoch 2\n",
      "loss at 0: 1.61\n",
      "loss at 100: 1.59\n",
      "loss at 200: 1.52\n",
      "loss at 300: 1.43\n",
      "loss at 400: 1.51\n",
      "Epoch 3\n",
      "loss at 0: 1.34\n",
      "loss at 100: 1.35\n",
      "loss at 200: 1.25\n",
      "loss at 300: 1.21\n",
      "loss at 400: 1.27\n",
      "Epoch 4\n",
      "loss at 0: 1.14\n",
      "loss at 100: 1.17\n",
      "loss at 200: 1.05\n",
      "loss at 300: 1.05\n",
      "loss at 400: 1.11\n",
      "Epoch 5\n",
      "loss at 0: 1.00\n",
      "loss at 100: 1.03\n",
      "loss at 200: 0.91\n",
      "loss at 300: 0.93\n",
      "loss at 400: 0.99\n",
      "Epoch 6\n",
      "loss at 0: 0.89\n",
      "loss at 100: 0.92\n",
      "loss at 200: 0.81\n",
      "loss at 300: 0.84\n",
      "loss at 400: 0.90\n",
      "Epoch 7\n",
      "loss at 0: 0.81\n",
      "loss at 100: 0.84\n",
      "loss at 200: 0.73\n",
      "loss at 300: 0.77\n",
      "loss at 400: 0.83\n",
      "Epoch 8\n",
      "loss at 0: 0.74\n",
      "loss at 100: 0.77\n",
      "loss at 200: 0.67\n",
      "loss at 300: 0.71\n",
      "loss at 400: 0.78\n",
      "Epoch 9\n",
      "loss at 0: 0.69\n",
      "loss at 100: 0.71\n",
      "loss at 200: 0.62\n",
      "loss at 300: 0.67\n",
      "loss at 400: 0.74\n"
     ]
    }
   ],
   "execution_count": 49
  },
  {
   "metadata": {
    "ExecuteTime": {
     "end_time": "2024-04-09T18:55:34.408822Z",
     "start_time": "2024-04-09T18:55:34.366898Z"
    }
   },
   "cell_type": "code",
   "source": [
    "predictions = model(test_images)\n",
    "predictions = predictions.numpy()\n",
    "predicted_labels = np.argmax(predictions, axis=1)\n",
    "matches = predicted_labels == test_labels\n",
    "print(f\"Accuracy: {np.sum(matches) / len(test_images)}\")\n",
    "print(f\"accuracy: {matches.mean():.2f}\")"
   ],
   "id": "4720ed154dc435b6",
   "outputs": [
    {
     "name": "stdout",
     "output_type": "stream",
     "text": [
      "Accuracy: 0.812\n",
      "accuracy: 0.81\n"
     ]
    }
   ],
   "execution_count": 50
  },
  {
   "metadata": {
    "ExecuteTime": {
     "end_time": "2024-04-09T18:55:34.413052Z",
     "start_time": "2024-04-09T18:55:34.411280Z"
    }
   },
   "cell_type": "code",
   "source": "",
   "id": "3e6c61b0d171731d",
   "outputs": [],
   "execution_count": 50
  }
 ],
 "metadata": {
  "kernelspec": {
   "display_name": "Python 3",
   "language": "python",
   "name": "python3"
  },
  "language_info": {
   "codemirror_mode": {
    "name": "ipython",
    "version": 2
   },
   "file_extension": ".py",
   "mimetype": "text/x-python",
   "name": "python",
   "nbconvert_exporter": "python",
   "pygments_lexer": "ipython2",
   "version": "2.7.6"
  }
 },
 "nbformat": 4,
 "nbformat_minor": 5
}
