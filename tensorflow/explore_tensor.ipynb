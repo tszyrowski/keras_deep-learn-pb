{
 "cells": [
  {
   "cell_type": "code",
   "id": "initial_id",
   "metadata": {
    "collapsed": true,
    "ExecuteTime": {
     "end_time": "2024-04-09T17:11:56.933101Z",
     "start_time": "2024-04-09T17:11:55.185932Z"
    }
   },
   "source": [
    "from tensorflow.keras.datasets import mnist\n",
    "(train_images, train_labels), (test_images, test_labels) = mnist.load_data()"
   ],
   "outputs": [
    {
     "name": "stderr",
     "output_type": "stream",
     "text": [
      "2024-04-09 18:11:55.520901: I tensorflow/core/util/port.cc:113] oneDNN custom operations are on. You may see slightly different numerical results due to floating-point round-off errors from different computation orders. To turn them off, set the environment variable `TF_ENABLE_ONEDNN_OPTS=0`.\n",
      "2024-04-09 18:11:55.521264: I external/local_tsl/tsl/cuda/cudart_stub.cc:32] Could not find cuda drivers on your machine, GPU will not be used.\n",
      "2024-04-09 18:11:55.523523: I external/local_tsl/tsl/cuda/cudart_stub.cc:32] Could not find cuda drivers on your machine, GPU will not be used.\n",
      "2024-04-09 18:11:55.551944: I tensorflow/core/platform/cpu_feature_guard.cc:210] This TensorFlow binary is optimized to use available CPU instructions in performance-critical operations.\n",
      "To enable the following instructions: AVX2 AVX512F AVX512_VNNI FMA, in other operations, rebuild TensorFlow with the appropriate compiler flags.\n",
      "2024-04-09 18:11:56.263782: W tensorflow/compiler/tf2tensorrt/utils/py_utils.cc:38] TF-TRT Warning: Could not find TensorRT\n"
     ]
    }
   ],
   "execution_count": 1
  },
  {
   "metadata": {
    "ExecuteTime": {
     "end_time": "2024-04-09T17:12:09.326058Z",
     "start_time": "2024-04-09T17:12:09.321534Z"
    }
   },
   "cell_type": "code",
   "source": "train_images.ndim",
   "id": "a2649afcab201229",
   "outputs": [
    {
     "data": {
      "text/plain": [
       "3"
      ]
     },
     "execution_count": 2,
     "metadata": {},
     "output_type": "execute_result"
    }
   ],
   "execution_count": 2
  },
  {
   "metadata": {
    "ExecuteTime": {
     "end_time": "2024-04-09T17:12:22.093545Z",
     "start_time": "2024-04-09T17:12:22.090726Z"
    }
   },
   "cell_type": "code",
   "source": "train_images.shape",
   "id": "fa74b47d2f726c4b",
   "outputs": [
    {
     "data": {
      "text/plain": [
       "(60000, 28, 28)"
      ]
     },
     "execution_count": 3,
     "metadata": {},
     "output_type": "execute_result"
    }
   ],
   "execution_count": 3
  },
  {
   "metadata": {
    "ExecuteTime": {
     "end_time": "2024-04-09T17:12:45.353846Z",
     "start_time": "2024-04-09T17:12:45.351002Z"
    }
   },
   "cell_type": "code",
   "source": "train_images.dtype",
   "id": "41bc1e143592dfef",
   "outputs": [
    {
     "data": {
      "text/plain": [
       "dtype('uint8')"
      ]
     },
     "execution_count": 4,
     "metadata": {},
     "output_type": "execute_result"
    }
   ],
   "execution_count": 4
  },
  {
   "metadata": {
    "ExecuteTime": {
     "end_time": "2024-04-09T17:14:23.320249Z",
     "start_time": "2024-04-09T17:14:23.250151Z"
    }
   },
   "cell_type": "code",
   "source": [
    "import matplotlib.pyplot as plt\n",
    "digit = train_images[0]\n",
    "plt.imshow(digit, cmap=plt.cm.binary)\n",
    "plt.show()"
   ],
   "id": "13d385baf374829",
   "outputs": [
    {
     "data": {
      "text/plain": [
       "<Figure size 640x480 with 1 Axes>"
      ],
      "image/png": "[encoded data removed]"
     },
     "metadata": {},
     "output_type": "display_data"
    }
   ],
   "execution_count": 7
  },
  {
   "metadata": {
    "ExecuteTime": {
     "end_time": "2024-04-09T17:15:02.089773Z",
     "start_time": "2024-04-09T17:15:02.087011Z"
    }
   },
   "cell_type": "code",
   "source": [
    "my_slice = train_images[10:100]\n",
    "my_slice.shape"
   ],
   "id": "c56c474633ee7fff",
   "outputs": [
    {
     "data": {
      "text/plain": [
       "(90, 28, 28)"
      ]
     },
     "execution_count": 8,
     "metadata": {},
     "output_type": "execute_result"
    }
   ],
   "execution_count": 8
  },
  {
   "metadata": {},
   "cell_type": "markdown",
   "source": "Creating Tensors - with intial value",
   "id": "e26dcde9e6e99bca"
  },
  {
   "metadata": {
    "ExecuteTime": {
     "end_time": "2024-04-10T17:01:33.169820Z",
     "start_time": "2024-04-10T17:01:33.163432Z"
    }
   },
   "cell_type": "code",
   "source": [
    "import tensorflow as tf\n",
    "x = tf.ones(shape=(2, 1))\n",
    "y = tf.zeros(shape=(1,2))\n",
    "z = tf.random.normal(shape=(3,2), mean=0, stddev=1)\n",
    "v = tf.random.uniform(shape=(2,3,4), minval=0, maxval=1)\n",
    "u = tf.random.uniform(shape=(4,3,2), minval=-5, maxval=5, dtype=tf.int64)\n",
    "print(f\"x=\\n{x}\")\n",
    "print(f\"y=\\n{y}\")\n",
    "print(f\"z=\\n{z}\")\n",
    "print(f\"v=\\n{v}\")\n",
    "print(f\"u=\\n{u}\")"
   ],
   "id": "3ceeab3b4efbe347",
   "outputs": [
    {
     "name": "stdout",
     "output_type": "stream",
     "text": [
      "x=\n",
      "[[1.]\n",
      " [1.]]\n",
      "y=\n",
      "[[0. 0.]]\n",
      "z=\n",
      "[[-0.49118447  1.226272  ]\n",
      " [-0.8741535   0.17401958]\n",
      " [-1.2137382   0.3033531 ]]\n",
      "v=\n",
      "[[[0.04198349 0.4258051  0.38934684 0.5328295 ]\n",
      "  [0.88251317 0.6181886  0.24502707 0.30160403]\n",
      "  [0.28159988 0.82898605 0.6562418  0.952932  ]]\n",
      "\n",
      " [[0.08265853 0.5117887  0.48335862 0.8603728 ]\n",
      "  [0.04292464 0.2483654  0.42886317 0.28715062]\n",
      "  [0.22939336 0.4542812  0.68043816 0.33743608]]]\n",
      "u=\n",
      "[[[-5 -4]\n",
      "  [ 3 -1]\n",
      "  [-4  3]]\n",
      "\n",
      " [[-1  3]\n",
      "  [ 1  3]\n",
      "  [ 0  1]]\n",
      "\n",
      " [[-5  2]\n",
      "  [-2 -4]\n",
      "  [-4 -1]]\n",
      "\n",
      " [[-4 -2]\n",
      "  [ 0  0]\n",
      "  [ 0 -3]]]\n"
     ]
    }
   ],
   "execution_count": 9
  },
  {
   "metadata": {},
   "cell_type": "markdown",
   "source": "",
   "id": "42845ac05c75e6e4"
  },
  {
   "metadata": {},
   "cell_type": "markdown",
   "source": "Tensors are immutable",
   "id": "66763c0d4f47ddf"
  },
  {
   "metadata": {
    "ExecuteTime": {
     "end_time": "2024-04-10T17:03:43.945113Z",
     "start_time": "2024-04-10T17:03:43.940637Z"
    }
   },
   "cell_type": "code",
   "source": [
    "print(x)\n",
    "print(x[0,0])\n",
    "try:\n",
    "    x[0,0] = 0\n",
    "except TypeError as e:\n",
    "    print(e)"
   ],
   "id": "52f4028409f3d0a",
   "outputs": [
    {
     "name": "stdout",
     "output_type": "stream",
     "text": [
      "tf.Tensor(\n",
      "[[1.]\n",
      " [1.]], shape=(2, 1), dtype=float32)\n",
      "tf.Tensor(1.0, shape=(), dtype=float32)\n",
      "'tensorflow.python.framework.ops.EagerTensor' object does not support item assignment\n"
     ]
    }
   ],
   "execution_count": 13
  },
  {
   "metadata": {
    "ExecuteTime": {
     "end_time": "2024-04-10T17:06:22.680464Z",
     "start_time": "2024-04-10T17:06:22.677200Z"
    }
   },
   "cell_type": "code",
   "source": [
    "import numpy as np\n",
    "np_x = np.ones(shape=(2, 1))\n",
    "print(f\"before change=\\n{np_x}\")\n",
    "print(\"the value is\",np_x[0,0])\n",
    "np_x[0,0] = 0\n",
    "print(f\"after change=\\n{np_x}\")"
   ],
   "id": "2449ec60ebe41087",
   "outputs": [
    {
     "name": "stdout",
     "output_type": "stream",
     "text": [
      "before change=\n",
      "[[1.]\n",
      " [1.]]\n",
      "the value is 1.0\n",
      "after change=\n",
      "[[0.]\n",
      " [1.]]\n"
     ]
    }
   ],
   "execution_count": 18
  },
  {
   "metadata": {},
   "cell_type": "markdown",
   "source": "To have mutable use tf.Variable",
   "id": "e02155292ba1b3fe"
  },
  {
   "metadata": {
    "ExecuteTime": {
     "end_time": "2024-04-10T17:16:11.511988Z",
     "start_time": "2024-04-10T17:16:11.505477Z"
    }
   },
   "cell_type": "code",
   "source": [
    "var_x = tf.Variable(np_x)\n",
    "print(f\"var_x of type:{type(var_x)}=\\n{var_x}\")\n",
    "print(f\"cna be converted to {type(var_x.numpy())} -> \\n{var_x.numpy()}\")\n",
    "print(f\"\\n============\")\n",
    "\n",
    "var_y = tf.Variable(y)\n",
    "print(f\"var_y of type:{type(var_y)}=\\n{var_y}\")\n",
    "var_y[0, 0].assign(3.)\n",
    "print(f\"var_y after reassigment=\\n{var_y}\")\n",
    "var_y.assign_add(tf.ones((1, 2)))\n",
    "print(f\"var_y further reassigment=\\n{var_y}\")"
   ],
   "id": "7826c327789c3874",
   "outputs": [
    {
     "name": "stdout",
     "output_type": "stream",
     "text": [
      "var_x of type:<class 'tensorflow.python.ops.resource_variable_ops.ResourceVariable'>=\n",
      "<tf.Variable 'Variable:0' shape=(2, 1) dtype=float64, numpy=\n",
      "array([[0.],\n",
      "       [1.]])>\n",
      "cna be converted to <class 'numpy.ndarray'> -> \n",
      "[[0.]\n",
      " [1.]]\n",
      "\n",
      "============\n",
      "var_y of type:<class 'tensorflow.python.ops.resource_variable_ops.ResourceVariable'>=\n",
      "<tf.Variable 'Variable:0' shape=(1, 2) dtype=float32, numpy=array([[0., 0.]], dtype=float32)>\n",
      "var_y after reassigment=\n",
      "<tf.Variable 'Variable:0' shape=(1, 2) dtype=float32, numpy=array([[3., 0.]], dtype=float32)>\n",
      "var_y further reassigment=\n",
      "<tf.Variable 'Variable:0' shape=(1, 2) dtype=float32, numpy=array([[4., 1.]], dtype=float32)>\n"
     ]
    }
   ],
   "execution_count": 28
  },
  {
   "metadata": {
    "ExecuteTime": {
     "end_time": "2024-04-10T17:22:48.034957Z",
     "start_time": "2024-04-10T17:22:48.028812Z"
    }
   },
   "cell_type": "code",
   "source": [
    "a = tf.ones((2,2))\n",
    "# a = tf.random.normal((2,2), mean=2, stddev=1)\n",
    "print(f\"a=\\n{a}\")\n",
    "b = tf.square(a)\n",
    "print(f\"b=\\n{b}\")\n",
    "c = tf.sqrt(a)\n",
    "print(f\"c=\\n{c}\")\n",
    "d = b + c\n",
    "print(f\"d=\\n{d}\")\n",
    "e = tf.matmul(a, b)\n",
    "print(f\"e=\\n{e}\")\n",
    "e *= d\n",
    "print(f\"e=\\n{e}\")\n"
   ],
   "id": "f64c9eea28aa1e16",
   "outputs": [
    {
     "name": "stdout",
     "output_type": "stream",
     "text": [
      "a=\n",
      "[[1. 1.]\n",
      " [1. 1.]]\n",
      "b=\n",
      "[[1. 1.]\n",
      " [1. 1.]]\n",
      "c=\n",
      "[[1. 1.]\n",
      " [1. 1.]]\n",
      "d=\n",
      "[[2. 2.]\n",
      " [2. 2.]]\n",
      "e=\n",
      "[[2. 2.]\n",
      " [2. 2.]]\n",
      "e=\n",
      "[[4. 4.]\n",
      " [4. 4.]]\n"
     ]
    }
   ],
   "execution_count": 42
  },
  {
   "metadata": {},
   "cell_type": "markdown",
   "source": "Tensofrs can get gradien of diferentiable expression",
   "id": "3f45350852787549"
  },
  {
   "metadata": {
    "ExecuteTime": {
     "end_time": "2024-04-10T17:25:54.478157Z",
     "start_time": "2024-04-10T17:25:54.473730Z"
    }
   },
   "cell_type": "code",
   "source": [
    "input_var = tf.Variable(tf.random.uniform(shape=(2,2)))\n",
    "with tf.GradientTape() as tape:\n",
    "    result = tf.square(input_var)\n",
    "    print(f\"result=\\n{result}\")\n",
    "gradient = tape.gradient(result, input_var)\n",
    "print(f\"gradient=\\n{gradient}\")"
   ],
   "id": "59a19cc8ab790c02",
   "outputs": [
    {
     "name": "stdout",
     "output_type": "stream",
     "text": [
      "result=\n",
      "[[0.06688283 0.11010776]\n",
      " [0.09706594 0.0279147 ]]\n",
      "gradient=\n",
      "[[0.5172343  0.6636498 ]\n",
      " [0.62310815 0.3341539 ]]\n"
     ]
    }
   ],
   "execution_count": 46
  },
  {
   "metadata": {},
   "cell_type": "markdown",
   "source": "to track add to watch",
   "id": "a9c35dc543cd9264"
  },
  {
   "metadata": {
    "ExecuteTime": {
     "end_time": "2024-04-10T17:28:20.422Z",
     "start_time": "2024-04-10T17:28:20.418069Z"
    }
   },
   "cell_type": "code",
   "source": [
    "input_const  = tf.constant(3.)\n",
    "with tf.GradientTape() as tape:\n",
    "    tape.watch(input_const)\n",
    "    result = tf.square(input_const)\n",
    "    print(f\"result=\\n{result}\")\n",
    "grad = tape.gradient(result, input_var)\n",
    "print(f\"gradient=\\n{grad}\")"
   ],
   "id": "bb7c08ad1b5a5575",
   "outputs": [
    {
     "name": "stdout",
     "output_type": "stream",
     "text": [
      "result=\n",
      "9.0\n",
      "gradient=\n",
      "None\n"
     ]
    }
   ],
   "execution_count": 47
  },
  {
   "metadata": {},
   "cell_type": "markdown",
   "source": "with gradient type we can perform second derivative",
   "id": "26d24aaf59625f5"
  },
  {
   "metadata": {
    "ExecuteTime": {
     "end_time": "2024-04-10T17:33:30.954789Z",
     "start_time": "2024-04-10T17:33:30.948337Z"
    }
   },
   "cell_type": "code",
   "source": [
    "time = tf.Variable(0.)\n",
    "with tf.GradientTape() as outer_tape:\n",
    "    with tf.GradientTape() as inner_tape:\n",
    "        position = 4.9 * time ** 2\n",
    "        print(f\"position=\\n{position}\")\n",
    "    speed = inner_tape.gradient(position, time)\n",
    "    print(f\"speed=\\n{speed}\")\n",
    "acceleration = outer_tape.gradient(speed, time)\n",
    "print(f\"acceleration=\\n{acceleration}\")\n",
    "print(\"accesleration is second derivative so become 2 x 4.9\")"
   ],
   "id": "8399c8a482d05fd9",
   "outputs": [
    {
     "name": "stdout",
     "output_type": "stream",
     "text": [
      "position=\n",
      "0.0\n",
      "speed=\n",
      "0.0\n",
      "acceleration=\n",
      "9.800000190734863\n",
      "accesleration is second derivative so become 2 x 4.9\n"
     ]
    }
   ],
   "execution_count": 52
  },
  {
   "metadata": {},
   "cell_type": "code",
   "outputs": [],
   "execution_count": null,
   "source": "",
   "id": "7e629d56b3ce8a63"
  }
 ],
 "metadata": {
  "kernelspec": {
   "display_name": "Python 3",
   "language": "python",
   "name": "python3"
  },
  "language_info": {
   "codemirror_mode": {
    "name": "ipython",
    "version": 2
   },
   "file_extension": ".py",
   "mimetype": "text/x-python",
   "name": "python",
   "nbconvert_exporter": "python",
   "pygments_lexer": "ipython2",
   "version": "2.7.6"
  }
 },
 "nbformat": 4,
 "nbformat_minor": 5
}
